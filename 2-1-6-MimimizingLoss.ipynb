{
  "nbformat": 4,
  "nbformat_minor": 0,
  "metadata": {
    "colab": {
      "name": "Mimimizing-Loss.ipynb",
      "provenance": []
    },
    "kernelspec": {
      "display_name": "Python 3",
      "language": "python",
      "name": "python3"
    },
    "language_info": {
      "codemirror_mode": {
        "name": "ipython",
        "version": 3
      },
      "file_extension": ".py",
      "mimetype": "text/x-python",
      "name": "python",
      "nbconvert_exporter": "python",
      "pygments_lexer": "ipython3",
      "version": "3.6.9"
    }
  },
  "cells": [
    {
      "cell_type": "code",
      "metadata": {
        "id": "gtmQDB6EjReV"
      },
      "source": [
        "# First import the functions we will need\n",
        "from __future__ import absolute_import, division, print_function, unicode_literals\n",
        "\n",
        "try:\n",
        "  # %tensorflow_version only exists in Colab.\n",
        "  %tensorflow_version 2.x\n",
        "except Exception:\n",
        "  pass\n",
        "import tensorflow as tf\n",
        "import numpy as np\n",
        "import matplotlib.pyplot as plt"
      ],
      "execution_count": 1,
      "outputs": []
    },
    {
      "cell_type": "markdown",
      "metadata": {
        "id": "9O5-58WYokl3"
      },
      "source": [
        "# GradientTape\n",
        "\n",
        "The Calculus is managed by a TensorFlow Gradient Tape. You can learn more about the gradient tape at https://www.tensorflow.org/api_docs/python/tf/GradientTape, and we will discuss it later in the course."
      ]
    },
    {
      "cell_type": "code",
      "metadata": {
        "id": "JdhgbGE2j02L"
      },
      "source": [
        "# Define our initial guess\n",
        "INITIAL_W = 10.0\n",
        "INITIAL_B = 10.0\n",
        "\n",
        "# Define our loss function\n",
        "def loss(predicted_y, target_y):\n",
        "  return tf.reduce_mean(tf.square(predicted_y - target_y))\n",
        "\n",
        "# Define our training procedure\n",
        "def train(model, inputs, outputs, learning_rate):\n",
        "  with tf.GradientTape() as t:\n",
        "    current_loss = loss(model(inputs), outputs)\n",
        "    # Here is where you differentiate the model values with respect to the loss function\n",
        "    dw, db = t.gradient(current_loss, [model.w, model.b])\n",
        "    # And here is where you update the model values based on the learning rate chosen\n",
        "    model.w.assign_sub(learning_rate * dw)\n",
        "    model.b.assign_sub(learning_rate * db)\n",
        "    return current_loss\n",
        "\n",
        "# Define our simple linear regression model\n",
        "class Model(object):\n",
        "  def __init__(self):\n",
        "    # Initialize the weights\n",
        "    self.w = tf.Variable(INITIAL_W)\n",
        "    self.b = tf.Variable(INITIAL_B)\n",
        "\n",
        "  def __call__(self, x):\n",
        "    return self.w * x + self.b"
      ],
      "execution_count": 2,
      "outputs": []
    },
    {
      "cell_type": "markdown",
      "metadata": {
        "id": "3vRlzgZ4M4GL"
      },
      "source": [
        "### Train our model"
      ]
    },
    {
      "cell_type": "code",
      "metadata": {
        "colab": {
          "base_uri": "https://localhost:8080/"
        },
        "id": "8akmDCoAjgak",
        "outputId": "49642952-6da9-4b4c-99f5-82e6ca77b4e5"
      },
      "source": [
        "# Define our input data and learning rate\n",
        "xs = [-1.0, 0.0, 1.0, 2.0, 3.0, 4.0]\n",
        "ys = [-3.0, -1.0, 1.0, 3.0, 5.0, 7.0]\n",
        "LEARNING_RATE=0.159\n",
        "\n",
        "# Instantiate our model\n",
        "model = Model()\n",
        "\n",
        "# Collect the history of w-values and b-values to plot later\n",
        "list_w, list_b = [], []\n",
        "epochs = range(50)\n",
        "losses = []\n",
        "for epoch in epochs:\n",
        "  list_w.append(model.w.numpy())\n",
        "  list_b.append(model.b.numpy())\n",
        "  current_loss = train(model, xs, ys, learning_rate=LEARNING_RATE)\n",
        "  losses.append(current_loss)\n",
        "  print('Epoch %2d: w=%1.2f b=%1.2f, loss=%2.5f' %\n",
        "        (epoch, list_w[-1], list_b[-1], current_loss))"
      ],
      "execution_count": 5,
      "outputs": [
        {
          "output_type": "stream",
          "text": [
            "Epoch  0: w=10.00 b=10.00, loss=715.66669\n",
            "Epoch  1: w=-8.39 b=2.69, loss=456.54285\n",
            "Epoch  2: w=6.92 b=6.47, loss=291.36899\n",
            "Epoch  3: w=-4.73 b=1.75, loss=186.04292\n",
            "Epoch  4: w=5.02 b=4.08, loss=118.85281\n",
            "Epoch  5: w=-2.36 b=1.03, loss=75.97171\n",
            "Epoch  6: w=3.84 b=2.46, loss=48.59163\n",
            "Epoch  7: w=-0.84 b=0.49, loss=31.10003\n",
            "Epoch  8: w=3.11 b=1.37, loss=19.91930\n",
            "Epoch  9: w=0.16 b=0.08, loss=12.76812\n",
            "Epoch 10: w=2.67 b=0.62, loss=8.19117\n",
            "Epoch 11: w=0.80 b=-0.22, loss=5.25969\n",
            "Epoch 12: w=2.40 b=0.11, loss=3.38064\n",
            "Epoch 13: w=1.21 b=-0.43, loss=2.17517\n",
            "Epoch 14: w=2.24 b=-0.24, loss=1.40113\n",
            "Epoch 15: w=1.49 b=-0.59, loss=0.90362\n",
            "Epoch 16: w=2.14 b=-0.48, loss=0.58351\n",
            "Epoch 17: w=1.66 b=-0.71, loss=0.37732\n",
            "Epoch 18: w=2.08 b=-0.64, loss=0.24434\n",
            "Epoch 19: w=1.78 b=-0.79, loss=0.15847\n",
            "Epoch 20: w=2.04 b=-0.75, loss=0.10294\n",
            "Epoch 21: w=1.85 b=-0.85, loss=0.06699\n",
            "Epoch 22: w=2.02 b=-0.83, loss=0.04367\n",
            "Epoch 23: w=1.90 b=-0.89, loss=0.02852\n",
            "Epoch 24: w=2.01 b=-0.88, loss=0.01866\n",
            "Epoch 25: w=1.94 b=-0.93, loss=0.01224\n",
            "Epoch 26: w=2.01 b=-0.92, loss=0.00804\n",
            "Epoch 27: w=1.96 b=-0.95, loss=0.00529\n",
            "Epoch 28: w=2.00 b=-0.94, loss=0.00349\n",
            "Epoch 29: w=1.97 b=-0.96, loss=0.00231\n",
            "Epoch 30: w=2.00 b=-0.96, loss=0.00153\n",
            "Epoch 31: w=1.98 b=-0.97, loss=0.00102\n",
            "Epoch 32: w=2.00 b=-0.97, loss=0.00068\n",
            "Epoch 33: w=1.99 b=-0.98, loss=0.00045\n",
            "Epoch 34: w=2.00 b=-0.98, loss=0.00030\n",
            "Epoch 35: w=1.99 b=-0.99, loss=0.00020\n",
            "Epoch 36: w=2.00 b=-0.99, loss=0.00014\n",
            "Epoch 37: w=1.99 b=-0.99, loss=0.00009\n",
            "Epoch 38: w=2.00 b=-0.99, loss=0.00006\n",
            "Epoch 39: w=2.00 b=-0.99, loss=0.00004\n",
            "Epoch 40: w=2.00 b=-0.99, loss=0.00003\n",
            "Epoch 41: w=2.00 b=-1.00, loss=0.00002\n",
            "Epoch 42: w=2.00 b=-1.00, loss=0.00001\n",
            "Epoch 43: w=2.00 b=-1.00, loss=0.00001\n",
            "Epoch 44: w=2.00 b=-1.00, loss=0.00001\n",
            "Epoch 45: w=2.00 b=-1.00, loss=0.00000\n",
            "Epoch 46: w=2.00 b=-1.00, loss=0.00000\n",
            "Epoch 47: w=2.00 b=-1.00, loss=0.00000\n",
            "Epoch 48: w=2.00 b=-1.00, loss=0.00000\n",
            "Epoch 49: w=2.00 b=-1.00, loss=0.00000\n"
          ],
          "name": "stdout"
        }
      ]
    },
    {
      "cell_type": "markdown",
      "metadata": {
        "id": "KbrQRmzdM4GM"
      },
      "source": [
        "### Plot our trained values over time"
      ]
    },
    {
      "cell_type": "code",
      "metadata": {
        "colab": {
          "base_uri": "https://localhost:8080/",
          "height": 265
        },
        "id": "HGgb5grSk8Ax",
        "outputId": "cd366548-db1d-4dae-955c-c92398752ceb"
      },
      "source": [
        "# Plot the w-values and b-values for each training Epoch against the true values\n",
        "TRUE_w = 2.0\n",
        "TRUE_b = -1.0\n",
        "plt.plot(epochs, list_w, 'r', epochs, list_b, 'b')\n",
        "plt.plot([TRUE_w] * len(epochs), 'r--', [TRUE_b] * len(epochs), 'b--')\n",
        "plt.legend(['w', 'b', 'True w', 'True b'])\n",
        "plt.show()"
      ],
      "execution_count": 6,
      "outputs": [
        {
          "output_type": "display_data",
          "data": {
            "image/png": "[encoded data removed]",
            "text/plain": [
              "<Figure size 432x288 with 1 Axes>"
            ]
          },
          "metadata": {
            "tags": [],
            "needs_background": "light"
          }
        }
      ]
    },
    {
      "cell_type": "code",
      "metadata": {
        "id": "-U2CjPsIOoxx"
      },
      "source": [
        ""
      ],
      "execution_count": null,
      "outputs": []
    }
  ]
}