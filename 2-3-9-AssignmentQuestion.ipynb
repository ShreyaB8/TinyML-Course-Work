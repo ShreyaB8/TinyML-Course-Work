{
  "nbformat": 4,
  "nbformat_minor": 0,
  "metadata": {
    "accelerator": "TPU",
    "colab": {
      "name": "2-3-9-Question.ipynb",
      "provenance": [],
      "include_colab_link": true
    },
    "kernelspec": {
      "display_name": "Python 3",
      "language": "python",
      "name": "python3"
    },
    "language_info": {
      "codemirror_mode": {
        "name": "ipython",
        "version": 3
      },
      "file_extension": ".py",
      "mimetype": "text/x-python",
      "name": "python",
      "nbconvert_exporter": "python",
      "pygments_lexer": "ipython3",
      "version": "3.6.9"
    }
  },
  "cells": [
    {
      "cell_type": "markdown",
      "metadata": {
        "id": "view-in-github",
        "colab_type": "text"
      },
      "source": [
        "<a href=\"https://colab.research.google.com/github/ShreyaB8/TinyML-Course-Work/blob/main/2-3-9-AssignmentQuestion.ipynb\" target=\"_parent\"><img src=\"https://colab.research.google.com/assets/colab-badge.svg\" alt=\"Open In Colab\"/></a>"
      ]
    },
    {
      "cell_type": "markdown",
      "metadata": {
        "id": "iiVBUpuHXEtw"
      },
      "source": [
        "# Create a CNN to classify Cifar-10\n",
        "\n",
        "Learn about Cifar-10 here: https://www.cs.toronto.edu/~kriz/cifar.html\n",
        "\n",
        "In class you saw how to build a Convolutional Neural Network that classified Fashion MNIST. Take what you learned to build a CNN that recognizes the 10 classes of CIFAR. It will be a similar network, but there are some key differences you'll need to take into account.\n",
        "\n",
        "First, while MNIST were 28x28 monochome images (1 color channel), CIFAR are 32x32 color images (3 color channels).\n",
        "\n",
        "Second, MNIST images are simple, containing just the object, centered in the image, with no background. CIFAR ones can have the object with a background -- for example airplanes might have a cloudy sky behind them! As such you should expect your accuracy to be a bit lower. \n",
        "\n",
        "We start by setting up the problem for you."
      ]
    },
    {
      "cell_type": "code",
      "metadata": {
        "id": "6OQ_tVTaU3oo",
        "outputId": "b57a23f5-654e-4e55-d9d4-1ba69e2f6363",
        "colab": {
          "base_uri": "https://localhost:8080/"
        }
      },
      "source": [
        "import tensorflow as tf\n",
        "\n",
        "from tensorflow.keras import datasets, layers, models\n",
        "import matplotlib.pyplot as plt\n",
        "\n",
        "(train_images, train_labels), (test_images, test_labels) = datasets.cifar10.load_data()\n",
        "\n",
        "# Normalize pixel values to be between 0 and 1\n",
        "train_images = train_images / 255.0\n",
        "test_images = test_images / 255.0"
      ],
      "execution_count": 1,
      "outputs": [
        {
          "output_type": "stream",
          "text": [
            "Downloading data from https://www.cs.toronto.edu/~kriz/cifar-10-python.tar.gz\n",
            "170500096/170498071 [==============================] - 3s 0us/step\n"
          ],
          "name": "stdout"
        }
      ]
    },
    {
      "cell_type": "markdown",
      "metadata": {
        "id": "WV78Zpm8BOM7"
      },
      "source": [
        "We then definte some of the model for you but leave most of it for you to fill in! \n",
        "\n",
        "*A hint: your model may want to learn some high level features and then classify them.*"
      ]
    },
    {
      "cell_type": "code",
      "metadata": {
        "id": "law2hNzdVA16"
      },
      "source": [
        "FIRST_LAYER = tf.keras.layers.Conv2D(64, (3,3), activation='relu', input_shape=(32, 32, 3))\n",
        "HIDDEN_LAYER_TYPE_1 = tf.keras.layers.MaxPooling2D(2, 2)\n",
        "HIDDEN_LAYER_TYPE_2 = tf.keras.layers.Conv2D(64, (3,3), activation='relu')\n",
        "HIDDEN_LAYER_TYPE_3 = tf.keras.layers.MaxPooling2D(2,2)\n",
        "HIDDEN_LAYER_TYPE_4 =  tf.keras.layers.Flatten()\n",
        "HIDDEN_LAYER_TYPE_5 = tf.keras.layers.Dense(20, activation='relu')\n",
        "LAST_LAYER = tf.keras.layers.Dense(10, activation='softmax')\n",
        "\n",
        "model = models.Sequential([\n",
        "       FIRST_LAYER,\n",
        "       HIDDEN_LAYER_TYPE_1,\n",
        "       HIDDEN_LAYER_TYPE_2,\n",
        "       HIDDEN_LAYER_TYPE_3,\n",
        "       HIDDEN_LAYER_TYPE_4,\n",
        "       layers.Flatten(),\n",
        "       HIDDEN_LAYER_TYPE_5,\n",
        "       LAST_LAYER,\n",
        "])"
      ],
      "execution_count": 2,
      "outputs": []
    },
    {
      "cell_type": "markdown",
      "metadata": {
        "id": "c1MJpifzBOM9"
      },
      "source": [
        "You then need to define loss function. And you can then train your model. Once training is done you'll see a plot of training and validation accuracy. You'll know you have a reasonable model with a reasonable loss funciton if your final training accuracy ends up in the 70s (or possibly higher).\n",
        "\n",
        "*A hint: your model may want to learn different categories.*"
      ]
    },
    {
      "cell_type": "code",
      "metadata": {
        "id": "Dxq2JU7dVIEX",
        "outputId": "dfe84310-a41b-4ea7-9e0c-2d810ab0a343",
        "colab": {
          "base_uri": "https://localhost:8080/",
          "height": 1000
        }
      },
      "source": [
        "LOSS = 'sparse_categorical_crossentropy'\n",
        "NUM_EPOCHS = 20 #You can change this value if you like to experiment with it to get better accuracy\n",
        "\n",
        "# Compile the model\n",
        "model.compile(optimizer='sgd',\n",
        "              loss=LOSS,\n",
        "              metrics=['accuracy'])\n",
        "\n",
        "# Fit the model\n",
        "history = model.fit(train_images, train_labels, epochs=NUM_EPOCHS, \n",
        "                    validation_data=(test_images, test_labels))\n",
        "\n",
        "# summarize history for accuracy\n",
        "plt.plot(history.history['accuracy'])\n",
        "plt.plot(history.history['val_accuracy'])\n",
        "plt.title('model accuracy')\n",
        "plt.ylabel('accuracy')\n",
        "plt.xlabel('epoch')\n",
        "plt.legend(['train', 'test'], loc='upper left')\n",
        "plt.xlim([0,NUM_EPOCHS])\n",
        "plt.ylim([0.4,1.0])\n",
        "plt.show()"
      ],
      "execution_count": 4,
      "outputs": [
        {
          "output_type": "stream",
          "text": [
            "Epoch 1/20\n",
            "1563/1563 [==============================] - 111s 71ms/step - loss: 2.1328 - accuracy: 0.2098 - val_loss: 1.9122 - val_accuracy: 0.3183\n",
            "Epoch 2/20\n",
            "1563/1563 [==============================] - 109s 70ms/step - loss: 1.7677 - accuracy: 0.3674 - val_loss: 1.6563 - val_accuracy: 0.3907\n",
            "Epoch 3/20\n",
            "1563/1563 [==============================] - 109s 70ms/step - loss: 1.5574 - accuracy: 0.4416 - val_loss: 1.4765 - val_accuracy: 0.4679\n",
            "Epoch 4/20\n",
            "1563/1563 [==============================] - 109s 70ms/step - loss: 1.4218 - accuracy: 0.4886 - val_loss: 1.3661 - val_accuracy: 0.5110\n",
            "Epoch 5/20\n",
            "1563/1563 [==============================] - 109s 69ms/step - loss: 1.3222 - accuracy: 0.5251 - val_loss: 1.3101 - val_accuracy: 0.5354\n",
            "Epoch 6/20\n",
            "1563/1563 [==============================] - 108s 69ms/step - loss: 1.2443 - accuracy: 0.5583 - val_loss: 1.2223 - val_accuracy: 0.5704\n",
            "Epoch 7/20\n",
            "1563/1563 [==============================] - 109s 70ms/step - loss: 1.1783 - accuracy: 0.5835 - val_loss: 1.1856 - val_accuracy: 0.5837\n",
            "Epoch 8/20\n",
            "1563/1563 [==============================] - 108s 69ms/step - loss: 1.1204 - accuracy: 0.6063 - val_loss: 1.1125 - val_accuracy: 0.6078\n",
            "Epoch 9/20\n",
            "1563/1563 [==============================] - 108s 69ms/step - loss: 1.0696 - accuracy: 0.6248 - val_loss: 1.1892 - val_accuracy: 0.5922\n",
            "Epoch 10/20\n",
            "1563/1563 [==============================] - 109s 69ms/step - loss: 1.0270 - accuracy: 0.6412 - val_loss: 1.0878 - val_accuracy: 0.6154\n",
            "Epoch 11/20\n",
            "1563/1563 [==============================] - 108s 69ms/step - loss: 0.9923 - accuracy: 0.6534 - val_loss: 1.0722 - val_accuracy: 0.6252\n",
            "Epoch 12/20\n",
            "1563/1563 [==============================] - 108s 69ms/step - loss: 0.9591 - accuracy: 0.6658 - val_loss: 1.0661 - val_accuracy: 0.6259\n",
            "Epoch 13/20\n",
            "1563/1563 [==============================] - 108s 69ms/step - loss: 0.9324 - accuracy: 0.6745 - val_loss: 1.0700 - val_accuracy: 0.6329\n",
            "Epoch 14/20\n",
            "1563/1563 [==============================] - 108s 69ms/step - loss: 0.9058 - accuracy: 0.6853 - val_loss: 0.9952 - val_accuracy: 0.6563\n",
            "Epoch 15/20\n",
            "1563/1563 [==============================] - 108s 69ms/step - loss: 0.8816 - accuracy: 0.6951 - val_loss: 0.9743 - val_accuracy: 0.6610\n",
            "Epoch 16/20\n",
            "1563/1563 [==============================] - 109s 70ms/step - loss: 0.8586 - accuracy: 0.7035 - val_loss: 1.0168 - val_accuracy: 0.6517\n",
            "Epoch 17/20\n",
            "1563/1563 [==============================] - 109s 70ms/step - loss: 0.8362 - accuracy: 0.7112 - val_loss: 1.0339 - val_accuracy: 0.6461\n",
            "Epoch 18/20\n",
            "1563/1563 [==============================] - 108s 69ms/step - loss: 0.8165 - accuracy: 0.7169 - val_loss: 0.9897 - val_accuracy: 0.6653\n",
            "Epoch 19/20\n",
            "1563/1563 [==============================] - 108s 69ms/step - loss: 0.7973 - accuracy: 0.7235 - val_loss: 0.9558 - val_accuracy: 0.6746\n",
            "Epoch 20/20\n",
            "1563/1563 [==============================] - 108s 69ms/step - loss: 0.7794 - accuracy: 0.7311 - val_loss: 1.0353 - val_accuracy: 0.6519\n"
          ],
          "name": "stdout"
        },
        {
          "output_type": "display_data",
          "data": {
            "image/png": "[encoded data removed]",
            "text/plain": [
              "<Figure size 432x288 with 1 Axes>"
            ]
          },
          "metadata": {
            "tags": [],
            "needs_background": "light"
          }
        }
      ]
    },
    {
      "cell_type": "markdown",
      "metadata": {
        "id": "bhCgTRh5BOM_"
      },
      "source": [
        "Finally, pick a better optimizer. And re-train your model. You'll know you have a reasonable model with a reasonable loss funciton and optimizer if your final training accuracy ends up in the 80s (or possibly higher).\n",
        "\n",
        "*A hint: your model may want to learn adaptively.*"
      ]
    },
    {
      "cell_type": "code",
      "metadata": {
        "id": "sCOjDq6DBONA",
        "outputId": "7f30c227-9e53-4ea7-d6a5-d0ac95acf477",
        "colab": {
          "base_uri": "https://localhost:8080/"
        }
      },
      "source": [
        "OPTIMIZER = 'adam'\n",
        "\n",
        "# Compile the model\n",
        "model.compile(optimizer=OPTIMIZER,\n",
        "              loss=LOSS,\n",
        "              metrics=['accuracy'])\n",
        "\n",
        "# Fit the model\n",
        "history = model.fit(train_images, train_labels, epochs=NUM_EPOCHS, \n",
        "                    validation_data=(test_images, test_labels))\n",
        "\n",
        "# summarize history for accuracy\n",
        "plt.plot(history.history['accuracy'])\n",
        "plt.plot(history.history['val_accuracy'])\n",
        "plt.title('model accuracy')\n",
        "plt.ylabel('accuracy')\n",
        "plt.xlabel('epoch')\n",
        "plt.legend(['train', 'test'], loc='upper left')\n",
        "plt.xlim([0,NUM_EPOCHS])\n",
        "plt.ylim([0.4,1.0])\n",
        "plt.show()"
      ],
      "execution_count": null,
      "outputs": [
        {
          "output_type": "stream",
          "text": [
            "Epoch 1/20\n",
            "1563/1563 [==============================] - 108s 69ms/step - loss: 0.8937 - accuracy: 0.6879 - val_loss: 0.9739 - val_accuracy: 0.6681\n",
            "Epoch 2/20\n",
            "1563/1563 [==============================] - 108s 69ms/step - loss: 0.8205 - accuracy: 0.7157 - val_loss: 0.9371 - val_accuracy: 0.6879\n",
            "Epoch 3/20\n",
            "1563/1563 [==============================] - 108s 69ms/step - loss: 0.7559 - accuracy: 0.7374 - val_loss: 0.9167 - val_accuracy: 0.6953\n",
            "Epoch 4/20\n",
            "1563/1563 [==============================] - 108s 69ms/step - loss: 0.7046 - accuracy: 0.7561 - val_loss: 0.9133 - val_accuracy: 0.6990\n",
            "Epoch 5/20\n",
            "1563/1563 [==============================] - 107s 69ms/step - loss: 0.6597 - accuracy: 0.7705 - val_loss: 0.9327 - val_accuracy: 0.6890\n",
            "Epoch 6/20\n",
            "1563/1563 [==============================] - 107s 68ms/step - loss: 0.6157 - accuracy: 0.7848 - val_loss: 0.9093 - val_accuracy: 0.7021\n",
            "Epoch 7/20\n",
            "1563/1563 [==============================] - 108s 69ms/step - loss: 0.5722 - accuracy: 0.7983 - val_loss: 0.9558 - val_accuracy: 0.7012\n",
            "Epoch 8/20\n",
            "1563/1563 [==============================] - 109s 70ms/step - loss: 0.5403 - accuracy: 0.8093 - val_loss: 0.9520 - val_accuracy: 0.6989\n",
            "Epoch 9/20\n",
            "1563/1563 [==============================] - 110s 70ms/step - loss: 0.5132 - accuracy: 0.8195 - val_loss: 0.9722 - val_accuracy: 0.7053\n",
            "Epoch 10/20\n",
            "1563/1563 [==============================] - 110s 70ms/step - loss: 0.4817 - accuracy: 0.8292 - val_loss: 1.0149 - val_accuracy: 0.6957\n",
            "Epoch 11/20\n",
            "1563/1563 [==============================] - 110s 70ms/step - loss: 0.4526 - accuracy: 0.8412 - val_loss: 1.0718 - val_accuracy: 0.6881\n",
            "Epoch 12/20\n",
            "1563/1563 [==============================] - 110s 70ms/step - loss: 0.4264 - accuracy: 0.8486 - val_loss: 1.0720 - val_accuracy: 0.6909\n",
            "Epoch 13/20\n",
            "1563/1563 [==============================] - 108s 69ms/step - loss: 0.4024 - accuracy: 0.8571 - val_loss: 1.0958 - val_accuracy: 0.6946\n",
            "Epoch 14/20\n",
            "1563/1563 [==============================] - 109s 69ms/step - loss: 0.3794 - accuracy: 0.8644 - val_loss: 1.1351 - val_accuracy: 0.6863\n",
            "Epoch 15/20\n",
            "1563/1563 [==============================] - 109s 69ms/step - loss: 0.3641 - accuracy: 0.8693 - val_loss: 1.2243 - val_accuracy: 0.6843\n",
            "Epoch 16/20\n",
            "1563/1563 [==============================] - 109s 70ms/step - loss: 0.3418 - accuracy: 0.8788 - val_loss: 1.2384 - val_accuracy: 0.6939\n",
            "Epoch 17/20\n",
            "1563/1563 [==============================] - 109s 70ms/step - loss: 0.3280 - accuracy: 0.8825 - val_loss: 1.2782 - val_accuracy: 0.6880\n",
            "Epoch 18/20\n",
            "1563/1563 [==============================] - 109s 70ms/step - loss: 0.3147 - accuracy: 0.8875 - val_loss: 1.4102 - val_accuracy: 0.6821\n",
            "Epoch 19/20\n",
            "1563/1563 [==============================] - 109s 70ms/step - loss: 0.2952 - accuracy: 0.8924 - val_loss: 1.4229 - val_accuracy: 0.6792\n",
            "Epoch 20/20\n",
            "1113/1563 [====================>.........] - ETA: 29s - loss: 0.2675 - accuracy: 0.9030"
          ],
          "name": "stdout"
        }
      ]
    }
  ]
}